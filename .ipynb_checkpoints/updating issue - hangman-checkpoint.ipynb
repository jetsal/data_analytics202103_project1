{
 "cells": [
  {
   "cell_type": "code",
   "execution_count": null,
   "metadata": {},
   "outputs": [],
   "source": [
    "letter_list = ['a', 'p','p', 'l', 'e']\n",
    "\n",
    "# GET CORRECT INPUT FROM PLAYER\n",
    "def player_input():\n",
    "    \"\"\"\n",
    "    input: a string (single letter)\n",
    "    output: a string (single letter)\n",
    "    \"\"\"\n",
    "    player_input = input (\"Enter the letter you'd like to try, a-z: \")\n",
    "    if player_input.isalpha() == False:\n",
    "        print(\"that's not a letter from the alphabet! Try again\")\n",
    "    elif len(player_input) > 1:\n",
    "        print(\"wait a minute, that was more than one character. No cheating please!\")\n",
    "    elif player_input in tried_letters:\n",
    "        print(\"you have already played this letter, try a new one.\")\n",
    "    else:\n",
    "        print(\"Here we go, let's see if the letter '\", player_input, \"' is in the word\")\n",
    "        player_letter = player_input\n",
    "        return player_letter\n",
    "\n",
    "correct_letters = []\n",
    "wrong_letters = []    \n",
    "penalty = 0\n",
    "\n",
    "    #CHECK IF INPUT IS IN THE WORD OR NOT \n",
    "def check_letter(player_letter):\n",
    "    \"\"\"\n",
    "    input: string (single letter)\n",
    "    output: two lists (wrong_letters; correct_letters); an integer (penalty); \n",
    "    \"\"\"\n",
    "    #tried_letters = correct_letters + wrong_letters\n",
    "    if player_letter in letter_list:\n",
    "        print(\"hooray, that one's in the word\")\n",
    "        correct_letters.append(player_letter)\n",
    "        #player_letter=player_input\n",
    "        print(correct_letters)\n",
    "        return correct_letters\n",
    "    else:\n",
    "        print(\"ouch, that one's not in the word\")\n",
    "        #print(\"test\", player_letter)\n",
    "        wrong_letters.append(player_letter)\n",
    "        print(wrong_letters)\n",
    "        #player_letter=player_input\n",
    "        penalty += 1\n",
    "        return wrong_letters, penalty\n",
    "\n",
    "for i in range(3):\n",
    "    check_letter(player_input())"
   ]
  }
 ],
 "metadata": {
  "kernelspec": {
   "display_name": "Python 3",
   "language": "python",
   "name": "python3"
  },
  "language_info": {
   "codemirror_mode": {
    "name": "ipython",
    "version": 3
   },
   "file_extension": ".py",
   "mimetype": "text/x-python",
   "name": "python",
   "nbconvert_exporter": "python",
   "pygments_lexer": "ipython3",
   "version": "3.8.5"
  }
 },
 "nbformat": 4,
 "nbformat_minor": 4
}
