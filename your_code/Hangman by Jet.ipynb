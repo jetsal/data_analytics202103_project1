{
 "cells": [
  {
   "cell_type": "markdown",
   "metadata": {},
   "source": [
    "# Welcome to hangman!\n"
   ]
  },
  {
   "cell_type": "markdown",
   "metadata": {},
   "source": [
    "#### Visuals\n",
    "Nice things first: the visuals. \n",
    "When no wrong letters are guessed, there is no scaffold (index 0). But with an increasing number of mistakes, the preparations to the hanging progresses."
   ]
  },
  {
   "cell_type": "code",
   "execution_count": 118,
   "metadata": {},
   "outputs": [
    {
     "name": "stdout",
     "output_type": "stream",
     "text": [
      "\n",
      "\t\t_________________\n",
      "\t\t||  /\t\t|\n",
      "\t\t|| /\t\t|\n",
      "\t\t||/\t       (-)\n",
      "\t\t||\t     \\\t|  /\n",
      "\t\t||\t      \\ - /\n",
      "\t\t||\t\t| \n",
      "\t\t||\t\t| \n",
      "\t\t||\t       / \\\t\n",
      "\t\t||\t      /\t  \\\t\n",
      "\t\t||\n",
      "\t\t||\n",
      "\t---------------------------------\n",
      "\t||||||||||||GAME OVER||||||||||||\n",
      "\t---------------------------------\n",
      "12\n"
     ]
    }
   ],
   "source": [
    "#create the pictures\n",
    "pictures = [\"\"\"\n",
    "\t\t       \n",
    "\t\t        \n",
    "\t\t\n",
    "\t\t\n",
    "\t\n",
    "\t\n",
    "\t\"\"\", \"\"\"\n",
    "\t\t\n",
    "\t\t\n",
    "\t\t      \n",
    "\t\t  \n",
    "\t\t      \n",
    "\t\t \n",
    "\t\t \n",
    "\t\t       \n",
    "\t\t        \n",
    "\t\t\n",
    "\t\t\n",
    "\t---------------------------------\n",
    "\t|||||||||||||||||||||||||||||||||\n",
    "\t---------------------------------\"\"\", \"\"\"\n",
    "\t\t||  \t\t\n",
    "\t\t|| \t\t\n",
    "\t\t||\t       \n",
    "\t\t||\t  \n",
    "\t\t||\t        \n",
    "\t\t||\t\t\t \n",
    "\t\t||\t\t\t \n",
    "\t\t||\t       \n",
    "\t\t||\t        \n",
    "\t\t||\n",
    "\t\t||\n",
    "\t---------------------------------\n",
    "\t|||||||||||||||||||||||||||||||||\n",
    "\t---------------------------------\"\"\", \"\"\"\n",
    "\t\t_________________\n",
    "\t\t||  \t\t\n",
    "\t\t|| \t\t\n",
    "\t\t||\t       \n",
    "\t\t||\t  \n",
    "\t\t||\t        \n",
    "\t\t||\t\t\t \n",
    "\t\t||\t\t\t \n",
    "\t\t||\t       \n",
    "\t\t||\t        \n",
    "\t\t||\n",
    "\t\t||\n",
    "\t---------------------------------\n",
    "\t|||||||||||||||||||||||||||||||||\n",
    "\t---------------------------------\"\"\", \"\"\"\n",
    "\t\t_________________\n",
    "\t\t||  /\t\t\n",
    "\t\t|| /\t\t\n",
    "\t\t||/\t       \n",
    "\t\t||\t  \n",
    "\t\t||\t        \n",
    "\t\t||\t\t\t \n",
    "\t\t||\t\t\t \n",
    "\t\t||\t       \n",
    "\t\t||\t        \n",
    "\t\t||\n",
    "\t\t||\n",
    "\t---------------------------------\n",
    "\t|||||||||||||||||||||||||||||||||\n",
    "\t---------------------------------\"\"\", \"\"\"\n",
    "\t\t_________________\n",
    "\t\t||  /\t\t|\n",
    "\t\t|| /\t\t|\n",
    "\t\t||/\t       \n",
    "\t\t||\t  \n",
    "\t\t||\t        \n",
    "\t\t||\t\t\t \n",
    "\t\t||\t\t\t \n",
    "\t\t||\t       \n",
    "\t\t||\t        \n",
    "\t\t||\n",
    "\t\t||\n",
    "\t---------------------------------\n",
    "\t|||||||||||||||||||||||||||||||||\n",
    "\t---------------------------------\"\"\", \"\"\"\n",
    "\t\t_________________\n",
    "\t\t||  /\t\t|\n",
    "\t\t|| /\t\t|\n",
    "\t\t||/\t       (-)\n",
    "\t\t||\t  \n",
    "\t\t||\t        \n",
    "\t\t||\t\t\t \n",
    "\t\t||\t\t\t \n",
    "\t\t||\t       \n",
    "\t\t||\t        \n",
    "\t\t||\n",
    "\t\t||\n",
    "\t---------------------------------\n",
    "\t|||||||||||||||||||||||||||||||||\n",
    "\t---------------------------------\"\"\", \"\"\"\n",
    "\t\t_________________\n",
    "\t\t||  /\t\t|\n",
    "\t\t|| /\t\t|\n",
    "\t\t||/\t       (-)\n",
    "\t\t||\t     \t| \n",
    "\t\t||\t        -\n",
    "\t\t||\t\t| \n",
    "\t\t||\t\t| \n",
    "\t\t||\t       \n",
    "\t\t||\t        \n",
    "\t\t||\n",
    "\t\t||\n",
    "\t---------------------------------\n",
    "\t|||||||||||||||||||||||||||||||||\n",
    "\t---------------------------------\"\"\", \"\"\"\n",
    "\t\t_________________\n",
    "\t\t||  /\t\t|\n",
    "\t\t|| /\t\t|\n",
    "\t\t||/\t       (-)\n",
    "\t\t||\t     \\\t| \n",
    "\t\t||\t      \\ - \n",
    "\t\t||\t\t| \n",
    "\t\t||\t\t| \n",
    "\t\t||\t       \n",
    "\t\t||\t        \n",
    "\t\t||\n",
    "\t\t||\n",
    "\t---------------------------------\n",
    "\t|||||||||||||||||||||||||||||||||\n",
    "\t---------------------------------\"\"\", \"\"\"\n",
    "\t\t_________________\n",
    "\t\t||  /\t\t|\n",
    "\t\t|| /\t\t|\n",
    "\t\t||/\t       (-)\n",
    "\t\t||\t     \\\t|  /\n",
    "\t\t||\t      \\ - /\n",
    "\t\t||\t\t| \n",
    "\t\t||\t\t| \n",
    "\t\t||\t       \n",
    "\t\t||\t        \n",
    "\t\t||\n",
    "\t\t||\n",
    "\t---------------------------------\n",
    "\t|||||||||||||||||||||||||||||||||\n",
    "\t---------------------------------\"\"\", \"\"\"\n",
    "\t\t_________________\n",
    "\t\t||  /\t\t|\n",
    "\t\t|| /\t\t|\n",
    "\t\t||/\t       (-)\n",
    "\t\t||\t     \\\t|  /\n",
    "\t\t||\t      \\ - /\n",
    "\t\t||\t\t| \n",
    "\t\t||\t\t| \n",
    "\t\t||\t       / \n",
    "\t\t||\t      /  \n",
    "\t\t||\n",
    "\t\t||\n",
    "\t---------------------------------\n",
    "\t|||||||||||||||||||||||||||||||||\n",
    "\t---------------------------------\"\"\", \"\"\"\n",
    "\t\t_________________\n",
    "\t\t||  /\t\t|\n",
    "\t\t|| /\t\t|\n",
    "\t\t||/\t       (-)\n",
    "\t\t||\t     \\\t|  /\n",
    "\t\t||\t      \\ - /\n",
    "\t\t||\t\t| \n",
    "\t\t||\t\t| \n",
    "\t\t||\t       / \\\t\n",
    "\t\t||\t      /\t  \\\t\n",
    "\t\t||\n",
    "\t\t||\n",
    "\t---------------------------------\n",
    "\t||||||||||||GAME OVER||||||||||||\n",
    "\t---------------------------------\"\"\"]\n",
    "\n",
    "print (pictures[11])       \n",
    "a = (len(pictures))\n",
    "print(a)\n",
    "            "
   ]
  },
  {
   "cell_type": "markdown",
   "metadata": {},
   "source": [
    "#### Let the computer randomly pick a word from a list:"
   ]
  },
  {
   "cell_type": "code",
   "execution_count": 138,
   "metadata": {},
   "outputs": [
    {
     "name": "stdout",
     "output_type": "stream",
     "text": [
      "DELETE BEFORE PLAYING: this is the word the computer chose: energy\n",
      "DELETE BEFORE PLAYING: this is the length: 6 \n",
      " \n",
      " _ _ _ _ _ _  \n",
      "\n"
     ]
    }
   ],
   "source": [
    "import random\n",
    "import re\n",
    "\n",
    "#create the list the computer can choose from\n",
    "all_words = ['people','history','way','art','world','information','map','two','computer','understanding','bird','idea','temperature','instance',\n",
    "'month','truth', 'marketing','university','difference','energy','entertainment','lake','skill']\n",
    "#pick a random word from the list\n",
    "comp_word = random.choice(all_words)\n",
    "\n",
    "print(\"DELETE BEFORE PLAYING: this is the word the computer chose:\", comp_word) \n",
    "print(\"DELETE BEFORE PLAYING: this is the length:\", len(comp_word),\"\\n \\n\", len(comp_word)* \"_ \", \"\\n\")"
   ]
  },
  {
   "cell_type": "markdown",
   "metadata": {},
   "source": [
    "#### Set the variables that need to be updated throughout the game\n",
    "I want a list of correct letters, wrong letters, the sum of those and of course: the penalty to keep the score."
   ]
  },
  {
   "cell_type": "code",
   "execution_count": 163,
   "metadata": {},
   "outputs": [
    {
     "name": "stdout",
     "output_type": "stream",
     "text": [
      "Welcome to hangman!\n",
      "It was a tough choice, but I picked a word. Here it is: \n",
      "\n",
      "_ _ _ _ \n"
     ]
    }
   ],
   "source": [
    "comp_word = 'bird' #just as a check should be removed later on\n",
    "display_word = '_ ' * len(comp_word)\n",
    "correct_letters = ['b']\n",
    "wrong_letters = ['k']\n",
    "tried_letters = correct_letters + wrong_letters\n",
    "\n",
    "print(\"Welcome to hangman!\")\n",
    "print(\"It was a tough choice, but I picked a word. Here it is: \\n\")\n",
    "print(display_word)"
   ]
  },
  {
   "cell_type": "markdown",
   "metadata": {},
   "source": [
    "#### Get player input \n",
    "A player is allowed to input a SINGLE letter from the ALPHABET. One that is not yet played. Case-unsensitive. "
   ]
  },
  {
   "cell_type": "code",
   "execution_count": 142,
   "metadata": {},
   "outputs": [],
   "source": [
    "def player_input():\n",
    "    \"\"\"\n",
    "    input: a string (single letter)\n",
    "    output: a string (single letter)\n",
    "    \"\"\"\n",
    "    player_input = input (\"Enter the letter you'd like to try, a-z: \")\n",
    "    if player_input.isalpha() == False:\n",
    "        print(\"That's not a letter from the alphabet! Try again\")\n",
    "    elif len(player_input) > 1:\n",
    "        print(\"Enter a single letter, please!\")\n",
    "    elif player_input in tried_letters:\n",
    "        print(\"You have already played this letter. Try new one.\")\n",
    "    else:\n",
    "        print(\"Here we go, let's see if the letter '\", player_input.lower(), \"' is in the word\")\n",
    "        player_letter = player_input.lower()\n",
    "        #print(type(player_letter))\n",
    "        return player_letter"
   ]
  },
  {
   "cell_type": "markdown",
   "metadata": {},
   "source": [
    "#### Display the progress\n",
    "Display the picture, dashed word (updated with correctly guessed letters) and wrongly guessed letters to the player"
   ]
  },
  {
   "cell_type": "code",
   "execution_count": 155,
   "metadata": {},
   "outputs": [
    {
     "name": "stdout",
     "output_type": "stream",
     "text": [
      "\n",
      "\t\t\n",
      "\t\t\n",
      "\t\t      \n",
      "\t\t  \n",
      "\t\t      \n",
      "\t\t \n",
      "\t\t \n",
      "\t\t       \n",
      "\t\t        \n",
      "\t\t\n",
      "\t\t\n",
      "\t---------------------------------\n",
      "\t|||||||||||||||||||||||||||||||||\n",
      "\t--------------------------------- \n",
      "\n",
      "b   _   _   _   \n",
      "\n",
      "You've tried these letters, but those are not in the word: \n",
      " ['k'] \n",
      "\n"
     ]
    }
   ],
   "source": [
    "def display_function (correct_letters, wrong_letters, comp_word):\n",
    "    \"\"\"\n",
    "    input: list, list, string\n",
    "    output: print statements only, no returns\n",
    "    \"\"\"\n",
    "    print(pictures[len(wrong_letters)], '\\n')\n",
    "    #make a loop that updates the display with letters. eg _ _ _ _ _ becomes _ p p _ _ becomes a p p _ _\n",
    "    display_word = '_ ' * len(comp_word)\n",
    "    for i in range(len(comp_word)): \n",
    "        if comp_word[i] in correct_letters:\n",
    "            display_word_new = display_word[:i] + comp_word[i] + display_word[i+1:] #tot die plek i vul in blanks, dan de letter, dan weer blanks\n",
    "            display_word = display_word_new\n",
    "    for letter in display_word: # Show the secret word with spaces in between each letter.\n",
    "        #print(display_word)\n",
    "        print(letter, end=' ')\n",
    "    print(\"\\n\")\n",
    "    print(\"You've tried these letters, but those are not in the word: \\n\", wrong_letters, '\\n')\n",
    "    \n",
    "display_function(correct_letters, wrong_letters, comp_word)"
   ]
  },
  {
   "cell_type": "markdown",
   "metadata": {},
   "source": [
    "#### Check if the letter the player picked, is in the word the computer chose."
   ]
  },
  {
   "cell_type": "code",
   "execution_count": 162,
   "metadata": {},
   "outputs": [
    {
     "name": "stdout",
     "output_type": "stream",
     "text": [
      "Ouch, that's not in the word\n"
     ]
    },
    {
     "ename": "UnboundLocalError",
     "evalue": "local variable 'wrong_letters' referenced before assignment",
     "output_type": "error",
     "traceback": [
      "\u001b[1;31m---------------------------------------------------------------------------\u001b[0m",
      "\u001b[1;31mUnboundLocalError\u001b[0m                         Traceback (most recent call last)",
      "\u001b[1;32m<ipython-input-162-b4265a2a7015>\u001b[0m in \u001b[0;36m<module>\u001b[1;34m\u001b[0m\n\u001b[0;32m     27\u001b[0m         \u001b[1;32mreturn\u001b[0m \u001b[0mwrong_letters\u001b[0m\u001b[1;33m\u001b[0m\u001b[1;33m\u001b[0m\u001b[0m\n\u001b[0;32m     28\u001b[0m \u001b[1;33m\u001b[0m\u001b[0m\n\u001b[1;32m---> 29\u001b[1;33m \u001b[0mcheck_letter\u001b[0m\u001b[1;33m(\u001b[0m\u001b[1;34m'q'\u001b[0m\u001b[1;33m)\u001b[0m\u001b[1;33m\u001b[0m\u001b[1;33m\u001b[0m\u001b[0m\n\u001b[0m",
      "\u001b[1;32m<ipython-input-162-b4265a2a7015>\u001b[0m in \u001b[0;36mcheck_letter\u001b[1;34m(player_letter)\u001b[0m\n\u001b[0;32m     14\u001b[0m         \u001b[0mprint\u001b[0m\u001b[1;33m(\u001b[0m\u001b[1;34m\"Ouch, that's not in the word\"\u001b[0m\u001b[1;33m)\u001b[0m\u001b[1;33m\u001b[0m\u001b[1;33m\u001b[0m\u001b[0m\n\u001b[0;32m     15\u001b[0m         \u001b[1;31m#print(\"test\", player_letter)\u001b[0m\u001b[1;33m\u001b[0m\u001b[1;33m\u001b[0m\u001b[1;33m\u001b[0m\u001b[0m\n\u001b[1;32m---> 16\u001b[1;33m         \u001b[0mwrong_letters\u001b[0m \u001b[1;33m=\u001b[0m \u001b[0mwrong_letters\u001b[0m \u001b[1;33m+\u001b[0m \u001b[0mplayer_letter\u001b[0m\u001b[1;33m\u001b[0m\u001b[1;33m\u001b[0m\u001b[0m\n\u001b[0m\u001b[0;32m     17\u001b[0m         \u001b[1;31m#wrong_letters.append(player_letter)\u001b[0m\u001b[1;33m\u001b[0m\u001b[1;33m\u001b[0m\u001b[1;33m\u001b[0m\u001b[0m\n\u001b[0;32m     18\u001b[0m         \u001b[0mprint\u001b[0m\u001b[1;33m(\u001b[0m\u001b[0mwrong_letters\u001b[0m\u001b[1;33m)\u001b[0m\u001b[1;33m\u001b[0m\u001b[1;33m\u001b[0m\u001b[0m\n",
      "\u001b[1;31mUnboundLocalError\u001b[0m: local variable 'wrong_letters' referenced before assignment"
     ]
    }
   ],
   "source": [
    "def check_letter(player_letter):\n",
    "    \"\"\"\n",
    "    input: string (single letter)\n",
    "    output: a lists (wrong_letters or correct_letters)\n",
    "    \"\"\"\n",
    "    #tried_letters = correct_letters + wrong_letters\n",
    "    if player_letter in comp_word:\n",
    "        print(\"Hooray, that one's in the word\")\n",
    "        correct_letters.append(player_letter)\n",
    "        #player_letter=player_input\n",
    "        print(correct_letters)\n",
    "        return correct_letters\n",
    "    else:\n",
    "        print(\"Ouch, that's not in the word\")\n",
    "        #print(\"test\", player_letter)\n",
    "        wrong_letters.append(player_letter)\n",
    "        print(wrong_letters)\n",
    "        print(\"this is the length of the wrong_letter- list\", len(wrong_letters))\n",
    "        penalty = len(wrong_letters)\n",
    "        print(\"this should be the same as the one above\", penalty)\n",
    "#         if penalty < 11:\n",
    "#             print(pictures[penalty-2])\n",
    "#         else:\n",
    "#             print(\"GAME OVER\", pictures[12])\n",
    "#             return \n",
    "        return wrong_letters\n",
    "\n",
    "check_letter('q')"
   ]
  },
  {
   "cell_type": "code",
   "execution_count": null,
   "metadata": {},
   "outputs": [],
   "source": [
    "def score_function(check_letter):\n",
    "    if len(wrong_letters) < 3:\n",
    "        print()"
   ]
  },
  {
   "cell_type": "markdown",
   "metadata": {},
   "source": [
    "#### Call the functions\n",
    "You should ask the player for input as long as:\n",
    "1). the penalty is below 11. At 11 it's game over for the player.\n",
    "2). the word is not yet completely guessed, so there should still be unknown letters in the word."
   ]
  },
  {
   "cell_type": "code",
   "execution_count": 125,
   "metadata": {},
   "outputs": [
    {
     "ename": "IndentationError",
     "evalue": "expected an indented block (<ipython-input-125-669b4ee42220>, line 5)",
     "output_type": "error",
     "traceback": [
      "\u001b[1;36m  File \u001b[1;32m\"<ipython-input-125-669b4ee42220>\"\u001b[1;36m, line \u001b[1;32m5\u001b[0m\n\u001b[1;33m    while penalty < 3:\u001b[0m\n\u001b[1;37m    ^\u001b[0m\n\u001b[1;31mIndentationError\u001b[0m\u001b[1;31m:\u001b[0m expected an indented block\n"
     ]
    }
   ],
   "source": [
    "\n",
    "def main_function(penalty, wrong_letters): \n",
    "    while len(wrong_letters) <3:\n",
    "    while penalty < 3:\n",
    "        check_letter(player_input())\n",
    "        #print(penalty)\n",
    "    else:\n",
    "        print(\"stop the loop!\", penalty)\n",
    "\n",
    "print(\"main_function(0,0)\")\n",
    "main_function(0,0)\n",
    "    \n",
    "# for i in range(3):\n",
    "#     check_letter(player_input())"
   ]
  },
  {
   "cell_type": "code",
   "execution_count": null,
   "metadata": {},
   "outputs": [],
   "source": [
    "\"\"\"\n",
    "while penalty <= len(pictures): \n",
    "    player_input(penalty)\n",
    "\n",
    "print(\"these are the wrongly guessed letters:\", wrong_letters)\n",
    "print(\"those are the correct letters:\", correct_letters)\n",
    "print(\"this is total tried letters:\", tried_letters) # this doesnt work\n",
    "\"\"\""
   ]
  }
 ],
 "metadata": {
  "kernelspec": {
   "display_name": "Python 3",
   "language": "python",
   "name": "python3"
  },
  "language_info": {
   "codemirror_mode": {
    "name": "ipython",
    "version": 3
   },
   "file_extension": ".py",
   "mimetype": "text/x-python",
   "name": "python",
   "nbconvert_exporter": "python",
   "pygments_lexer": "ipython3",
   "version": "3.8.5"
  }
 },
 "nbformat": 4,
 "nbformat_minor": 4
}
