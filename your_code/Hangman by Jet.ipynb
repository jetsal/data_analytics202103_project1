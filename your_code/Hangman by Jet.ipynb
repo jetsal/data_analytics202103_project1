{
 "cells": [
  {
   "cell_type": "markdown",
   "metadata": {},
   "source": [
    "# Welcome to hangman!\n"
   ]
  },
  {
   "cell_type": "markdown",
   "metadata": {},
   "source": [
    "#### Visuals\n",
    "Nice things first: the visuals. \n",
    "When no wrong letters are guessed, there is no scaffold (index 0). But with an increasing number of mistakes, the preparations to the hanging progresses."
   ]
  },
  {
   "cell_type": "code",
   "execution_count": 1,
   "metadata": {},
   "outputs": [
    {
     "name": "stdout",
     "output_type": "stream",
     "text": [
      "\n",
      "\t\t_________________\n",
      "\t\t||  /\t\t|\n",
      "\t\t|| /\t\t|\n",
      "\t\t||/\t       (-)\n",
      "\t\t||\t     \\\t|  /\n",
      "\t\t||\t      \\ - /\n",
      "\t\t||\t\t| \n",
      "\t\t||\t\t| \n",
      "\t\t||\t       / \\\t\n",
      "\t\t||\t      /\t  \\\t\n",
      "\t\t||\n",
      "\t\t||\n",
      "\t---------------------------------\n",
      "\t||||||||||||GAME OVER||||||||||||\n",
      "\t---------------------------------\n",
      "12\n"
     ]
    }
   ],
   "source": [
    "#create the pictures\n",
    "pictures = [\"\"\"\n",
    "\t\t       \n",
    "\t\t        \n",
    "\t\t\n",
    "\t\t\n",
    "\t\n",
    "\t\n",
    "\t\"\"\", \"\"\"\n",
    "\t\t\n",
    "\t\t\n",
    "\t\t      \n",
    "\t\t  \n",
    "\t\t      \n",
    "\t\t \n",
    "\t\t \n",
    "\t\t       \n",
    "\t\t        \n",
    "\t\t\n",
    "\t\t\n",
    "\t---------------------------------\n",
    "\t|||||||||||||||||||||||||||||||||\n",
    "\t---------------------------------\"\"\", \"\"\"\n",
    "\t\t||  \t\t\n",
    "\t\t|| \t\t\n",
    "\t\t||\t       \n",
    "\t\t||\t  \n",
    "\t\t||\t        \n",
    "\t\t||\t\t\t \n",
    "\t\t||\t\t\t \n",
    "\t\t||\t       \n",
    "\t\t||\t        \n",
    "\t\t||\n",
    "\t\t||\n",
    "\t---------------------------------\n",
    "\t|||||||||||||||||||||||||||||||||\n",
    "\t---------------------------------\"\"\", \"\"\"\n",
    "\t\t_________________\n",
    "\t\t||  \t\t\n",
    "\t\t|| \t\t\n",
    "\t\t||\t       \n",
    "\t\t||\t  \n",
    "\t\t||\t        \n",
    "\t\t||\t\t\t \n",
    "\t\t||\t\t\t \n",
    "\t\t||\t       \n",
    "\t\t||\t        \n",
    "\t\t||\n",
    "\t\t||\n",
    "\t---------------------------------\n",
    "\t|||||||||||||||||||||||||||||||||\n",
    "\t---------------------------------\"\"\", \"\"\"\n",
    "\t\t_________________\n",
    "\t\t||  /\t\t\n",
    "\t\t|| /\t\t\n",
    "\t\t||/\t       \n",
    "\t\t||\t  \n",
    "\t\t||\t        \n",
    "\t\t||\t\t\t \n",
    "\t\t||\t\t\t \n",
    "\t\t||\t       \n",
    "\t\t||\t        \n",
    "\t\t||\n",
    "\t\t||\n",
    "\t---------------------------------\n",
    "\t|||||||||||||||||||||||||||||||||\n",
    "\t---------------------------------\"\"\", \"\"\"\n",
    "\t\t_________________\n",
    "\t\t||  /\t\t|\n",
    "\t\t|| /\t\t|\n",
    "\t\t||/\t       \n",
    "\t\t||\t  \n",
    "\t\t||\t        \n",
    "\t\t||\t\t\t \n",
    "\t\t||\t\t\t \n",
    "\t\t||\t       \n",
    "\t\t||\t        \n",
    "\t\t||\n",
    "\t\t||\n",
    "\t---------------------------------\n",
    "\t|||||||||||||||||||||||||||||||||\n",
    "\t---------------------------------\"\"\", \"\"\"\n",
    "\t\t_________________\n",
    "\t\t||  /\t\t|\n",
    "\t\t|| /\t\t|\n",
    "\t\t||/\t       (-)\n",
    "\t\t||\t  \n",
    "\t\t||\t        \n",
    "\t\t||\t\t\t \n",
    "\t\t||\t\t\t \n",
    "\t\t||\t       \n",
    "\t\t||\t        \n",
    "\t\t||\n",
    "\t\t||\n",
    "\t---------------------------------\n",
    "\t|||||||||||||||||||||||||||||||||\n",
    "\t---------------------------------\"\"\", \"\"\"\n",
    "\t\t_________________\n",
    "\t\t||  /\t\t|\n",
    "\t\t|| /\t\t|\n",
    "\t\t||/\t       (-)\n",
    "\t\t||\t     \t| \n",
    "\t\t||\t        -\n",
    "\t\t||\t\t| \n",
    "\t\t||\t\t| \n",
    "\t\t||\t       \n",
    "\t\t||\t        \n",
    "\t\t||\n",
    "\t\t||\n",
    "\t---------------------------------\n",
    "\t|||||||||||||||||||||||||||||||||\n",
    "\t---------------------------------\"\"\", \"\"\"\n",
    "\t\t_________________\n",
    "\t\t||  /\t\t|\n",
    "\t\t|| /\t\t|\n",
    "\t\t||/\t       (-)\n",
    "\t\t||\t     \\\t| \n",
    "\t\t||\t      \\ - \n",
    "\t\t||\t\t| \n",
    "\t\t||\t\t| \n",
    "\t\t||\t       \n",
    "\t\t||\t        \n",
    "\t\t||\n",
    "\t\t||\n",
    "\t---------------------------------\n",
    "\t|||||||||||||||||||||||||||||||||\n",
    "\t---------------------------------\"\"\", \"\"\"\n",
    "\t\t_________________\n",
    "\t\t||  /\t\t|\n",
    "\t\t|| /\t\t|\n",
    "\t\t||/\t       (-)\n",
    "\t\t||\t     \\\t|  /\n",
    "\t\t||\t      \\ - /\n",
    "\t\t||\t\t| \n",
    "\t\t||\t\t| \n",
    "\t\t||\t       \n",
    "\t\t||\t        \n",
    "\t\t||\n",
    "\t\t||\n",
    "\t---------------------------------\n",
    "\t|||||||||||||||||||||||||||||||||\n",
    "\t---------------------------------\"\"\", \"\"\"\n",
    "\t\t_________________\n",
    "\t\t||  /\t\t|\n",
    "\t\t|| /\t\t|\n",
    "\t\t||/\t       (-)\n",
    "\t\t||\t     \\\t|  /\n",
    "\t\t||\t      \\ - /\n",
    "\t\t||\t\t| \n",
    "\t\t||\t\t| \n",
    "\t\t||\t       / \n",
    "\t\t||\t      /  \n",
    "\t\t||\n",
    "\t\t||\n",
    "\t---------------------------------\n",
    "\t|||||||||||||||||||||||||||||||||\n",
    "\t---------------------------------\"\"\", \"\"\"\n",
    "\t\t_________________\n",
    "\t\t||  /\t\t|\n",
    "\t\t|| /\t\t|\n",
    "\t\t||/\t       (-)\n",
    "\t\t||\t     \\\t|  /\n",
    "\t\t||\t      \\ - /\n",
    "\t\t||\t\t| \n",
    "\t\t||\t\t| \n",
    "\t\t||\t       / \\\t\n",
    "\t\t||\t      /\t  \\\t\n",
    "\t\t||\n",
    "\t\t||\n",
    "\t---------------------------------\n",
    "\t||||||||||||GAME OVER||||||||||||\n",
    "\t---------------------------------\"\"\"]\n",
    "\n",
    "print (pictures[11])       \n",
    "a = (len(pictures))\n",
    "print(a)\n",
    "            "
   ]
  },
  {
   "cell_type": "markdown",
   "metadata": {},
   "source": [
    "#### Let the computer randomly pick a word from a list:"
   ]
  },
  {
   "cell_type": "code",
   "execution_count": 2,
   "metadata": {},
   "outputs": [
    {
     "name": "stdout",
     "output_type": "stream",
     "text": [
      "DELETE BEFORE PLAYING: this is the word the computer chose: month\n",
      "DELETE BEFORE PLAYING: this is the length: 5 \n",
      " \n",
      " _ _ _ _ _  \n",
      "\n"
     ]
    }
   ],
   "source": [
    "import random\n",
    "import re\n",
    "\n",
    "#create the list the computer can choose from\n",
    "all_words = ['people','history','way','art','world','information','map','two','computer','understanding','bird','idea','temperature','instance',\n",
    "'month','truth', 'marketing','university','difference','energy','entertainment','lake','skill']\n",
    "\n",
    "#pick a random word from the list\n",
    "comp_word = random.choice(all_words)\n",
    "\n",
    "print(\"DELETE BEFORE PLAYING: this is the word the computer chose:\", comp_word) \n",
    "print(\"DELETE BEFORE PLAYING: this is the length:\", len(comp_word),\"\\n \\n\", len(comp_word)* \"_ \", \"\\n\")"
   ]
  },
  {
   "cell_type": "markdown",
   "metadata": {},
   "source": [
    "#### Set the variables that need to be updated throughout the game\n",
    "I want a list of correct letters, wrong letters, the sum of those. Also I want a parameter that keeps track of wether the game is over."
   ]
  },
  {
   "cell_type": "code",
   "execution_count": 76,
   "metadata": {},
   "outputs": [
    {
     "name": "stdout",
     "output_type": "stream",
     "text": [
      "Welcome to hangman!\n",
      "It was a tough choice, but I picked a word. Here it is: \n",
      "\n",
      "_ _ _ _ \n"
     ]
    }
   ],
   "source": [
    "#setting variables that are used during the game\n",
    "comp_word = 'bird' #just as a check should be removed later on\n",
    "display_word = '_ ' * len(comp_word)\n",
    "correct_letters = []\n",
    "wrong_letters = []\n",
    "tried_letters = correct_letters + wrong_letters\n",
    "game_over = False\n",
    "\n",
    "\n",
    "#start of the game - to be moved to main function\n",
    "print(\"Welcome to hangman!\")\n",
    "print(\"It was a tough choice, but I picked a word. Here it is: \\n\")\n",
    "print(display_word)"
   ]
  },
  {
   "cell_type": "markdown",
   "metadata": {},
   "source": [
    "#### Get player input \n",
    "A player is allowed to input a SINGLE letter from the ALPHABET. One that is not yet played. Case-unsensitive. "
   ]
  },
  {
   "cell_type": "code",
   "execution_count": 69,
   "metadata": {},
   "outputs": [],
   "source": [
    "#function to get correct input from a player\n",
    "def player_input():\n",
    "    \"\"\"\n",
    "    input: a string (single letter)\n",
    "    output: a string (single letter)\n",
    "    \"\"\"\n",
    "    player_input = input (\"Enter the letter you'd like to try, a-z: \")\n",
    "    if player_input.isalpha() == False:\n",
    "        print(\"That's not a letter from the alphabet! Try again\")\n",
    "    elif len(player_input) > 1:\n",
    "        print(\"Enter a single letter, please!\")\n",
    "    elif player_input in tried_letters:\n",
    "        print(\"You have already played this letter. Try new one.\")\n",
    "    else:\n",
    "        print(\"Here we go, let's see if the letter '\", player_input.lower(), \"' is in the word\")\n",
    "        player_letter = player_input.lower()\n",
    "        #print(type(player_letter))\n",
    "        return player_letter"
   ]
  },
  {
   "cell_type": "markdown",
   "metadata": {},
   "source": [
    "#### Check if the letter the player picked, is in the word the computer chose."
   ]
  },
  {
   "cell_type": "code",
   "execution_count": 70,
   "metadata": {},
   "outputs": [
    {
     "name": "stdout",
     "output_type": "stream",
     "text": [
      "Hooray, that one's in the word\n",
      "DELETE BEFORE PLAY this is the list of correct_letters ['b']\n"
     ]
    }
   ],
   "source": [
    "#function that checks if the letter the player picked, is in the word the computer chose.\n",
    "def check_letter(player_letter):\n",
    "    \"\"\"\n",
    "    input: string (single letter)\n",
    "    output: a lists (wrong_letters or correct_letters)\n",
    "    \"\"\"\n",
    "    #tried_letters = correct_letters + wrong_letters\n",
    "    if player_letter in comp_word:\n",
    "        print(\"Hooray, that one's in the word\")\n",
    "        correct_letters.append(player_letter)\n",
    "        #player_letter=player_input\n",
    "        print(\"DELETE BEFORE PLAY this is the list of correct_letters\", correct_letters)\n",
    "        #check if the word is guessed completely\n",
    "#         for i in range(len(comp_word)):\n",
    "#             print(\"I've arrived here\")\n",
    "#             if comp_word[i] not in correct_letters:\n",
    "#                 print(\"Let's continue\")\n",
    "#                 return correct_letters\n",
    "#             else:\n",
    "#                 print(\"Well done, you guessed the word!\")\n",
    "#                 return correct_letters\n",
    "    else:\n",
    "        print(\"Ouch, that's not in the word\")\n",
    "        #print(\"test\", player_letter)\n",
    "        wrong_letters.append(player_letter)\n",
    "        print(\"DELETE BEFORE PLAY these are the wrong_letters so far:\", wrong_letters)\n",
    "        print(\"DELETE BEFORE PLAY this is the length of the wrong_letter- list\", len(wrong_letters))\n",
    "        penalty = len(wrong_letters)\n",
    "        print(\"DELETE BEFORE PLAY this should be the same as the one above\", penalty)\n",
    "#         if penalty < 11:\n",
    "#             print(pictures[penalty-2])\n",
    "#         else:\n",
    "#             print(\"GAME OVER\", pictures[12])\n",
    "#             return \n",
    "        return wrong_letters\n",
    "\n",
    "check_letter('b')"
   ]
  },
  {
   "cell_type": "markdown",
   "metadata": {},
   "source": [
    "#### Display the progress\n",
    "Display the picture, dashed word (updated with correctly guessed letters) and wrongly guessed letters to the player"
   ]
  },
  {
   "cell_type": "code",
   "execution_count": 82,
   "metadata": {},
   "outputs": [
    {
     "name": "stdout",
     "output_type": "stream",
     "text": [
      "\n",
      "\t\t       \n",
      "\t\t        \n",
      "\t\t\n",
      "\t\t\n",
      "\t\n",
      "\t\n",
      "\t \n",
      "\n",
      "_ i _ d _   _   \n",
      "\n",
      "You've tried these letters, but they are not in the word: \n",
      " [] \n",
      "\n"
     ]
    }
   ],
   "source": [
    "#function that displays the progress of the game to the player\n",
    "def display_function (correct_letters, wrong_letters, comp_word):\n",
    "    \"\"\"\n",
    "    input: list, list, string\n",
    "    output: print statements only, no returns\n",
    "    \"\"\"\n",
    "    print(pictures[len(wrong_letters)], '\\n')\n",
    "    #make a loop that updates the display with letters. eg _ _ _ _ _ becomes _ p p _ _ becomes a p p _ _\n",
    "    display_word = '_ ' * len(comp_word)\n",
    "    for i in range(len(comp_word)): \n",
    "        if comp_word[i] in correct_letters:\n",
    "            display_word_new = display_word[:i] + comp_word[i] + display_word[i+1:] #tot die plek i vul in blanks, dan de letter, dan weer blanks\n",
    "            display_word = display_word_new\n",
    "    for letter in display_word: # Show the secret word with spaces in between each letter.\n",
    "        #print(display_word)\n",
    "        print(letter, end=' ')\n",
    "    print(\"\\n\")\n",
    "    return print(\"You've tried these letters, but they are not in the word: \\n\", wrong_letters, '\\n')\n",
    "\n",
    "display_function(correct_letters, wrong_letters, comp_word)"
   ]
  },
  {
   "cell_type": "markdown",
   "metadata": {},
   "source": [
    "#### Ask if the player wants to play again\n",
    "Function that determines at the very end of the game, if the player wants to start a new game."
   ]
  },
  {
   "cell_type": "code",
   "execution_count": 21,
   "metadata": {},
   "outputs": [],
   "source": [
    "# def new_game():\n",
    "#     new_input = input(\"Do you want to play again? Y/N: \")\n",
    "#     if input() == N:\n",
    "#         print(\"too bad!\")\n",
    "#         return NO\n",
    "#     if input() == Y:\n",
    "#         print(\"nice\")\n",
    "#         return YES\n",
    "#     else:\n",
    "#         print(\"what's that?!\")\n",
    "\n",
    "# new_game()"
   ]
  },
  {
   "cell_type": "markdown",
   "metadata": {},
   "source": [
    "#### Call the functions\n",
    "You should ask the player for input as long as:\n",
    "1). the length of wrong letters, is shorter than the length of the pictures. \n",
    "2). the word is not yet completely guessed, so there should still be unknown letters in the word.\n",
    "If either one of those turns to true, the game is done. The player can be asked if (s)he wants to play again."
   ]
  },
  {
   "cell_type": "code",
   "execution_count": 79,
   "metadata": {},
   "outputs": [],
   "source": [
    "def main_function():\n",
    "    print(\"Welcome to hangman!\")\n",
    "    print(\"It was a tough choice, but I picked a word. Here it is: \\n\")\n",
    "    print(display_word, \"\\n\") \n",
    "\n",
    "    #let player guess a letter and check whether the letter is in the word\n",
    "    check_letter(player_input())\n",
    "    #show a dashboard with the updated to-be-guessed word, wrong letters and pictures\n",
    "    display(correct_letters, wrong_letters, comp_word)\n",
    "\n"
   ]
  },
  {
   "cell_type": "code",
   "execution_count": 83,
   "metadata": {},
   "outputs": [
    {
     "name": "stdout",
     "output_type": "stream",
     "text": [
      "Welcome to hangman!\n",
      "It was a tough choice, but I picked a word. Here it is: \n",
      "\n",
      "_ _ _ _  \n",
      "\n",
      "Enter the letter you'd like to try, a-z: r\n",
      "Here we go, let's see if the letter ' r ' is in the word\n",
      "Hooray, that one's in the word\n",
      "DELETE BEFORE PLAY this is the list of correct_letters ['d', 'i', 'r']\n"
     ]
    },
    {
     "data": {
      "text/plain": [
       "['d', 'i', 'r']"
      ]
     },
     "metadata": {},
     "output_type": "display_data"
    },
    {
     "data": {
      "text/plain": [
       "[]"
      ]
     },
     "metadata": {},
     "output_type": "display_data"
    },
    {
     "data": {
      "text/plain": [
       "'bird'"
      ]
     },
     "metadata": {},
     "output_type": "display_data"
    }
   ],
   "source": [
    "main_function()"
   ]
  },
  {
   "cell_type": "code",
   "execution_count": 73,
   "metadata": {},
   "outputs": [
    {
     "name": "stdout",
     "output_type": "stream",
     "text": [
      "Welcome to hangman!\n",
      "It was a tough choice, but I picked a word. Here it is: \n",
      "\n",
      "_ _ _ _  \n",
      "\n",
      "Enter the letter you'd like to try, a-z: b\n",
      "Here we go, let's see if the letter ' b ' is in the word\n",
      "Hooray, that one's in the word\n",
      "DELETE BEFORE PLAY this is the list of correct_letters ['b', 'b']\n"
     ]
    },
    {
     "data": {
      "text/plain": [
       "['b', 'b']"
      ]
     },
     "metadata": {},
     "output_type": "display_data"
    },
    {
     "data": {
      "text/plain": [
       "[]"
      ]
     },
     "metadata": {},
     "output_type": "display_data"
    },
    {
     "data": {
      "text/plain": [
       "'bird'"
      ]
     },
     "metadata": {},
     "output_type": "display_data"
    },
    {
     "name": "stdout",
     "output_type": "stream",
     "text": [
      "I'm here!\n",
      "I'm here!\n",
      "I'm here!\n",
      "I'm here!\n"
     ]
    },
    {
     "ename": "KeyboardInterrupt",
     "evalue": "Interrupted by user",
     "output_type": "error",
     "traceback": [
      "\u001b[1;31m---------------------------------------------------------------------------\u001b[0m",
      "\u001b[1;31mKeyboardInterrupt\u001b[0m                         Traceback (most recent call last)",
      "\u001b[1;32m<ipython-input-73-0217995f53b7>\u001b[0m in \u001b[0;36m<module>\u001b[1;34m\u001b[0m\n\u001b[0;32m     32\u001b[0m \u001b[1;33m\u001b[0m\u001b[0m\n\u001b[0;32m     33\u001b[0m \u001b[1;33m\u001b[0m\u001b[0m\n\u001b[1;32m---> 34\u001b[1;33m \u001b[0mmain_function\u001b[0m\u001b[1;33m(\u001b[0m\u001b[1;33m)\u001b[0m\u001b[1;33m\u001b[0m\u001b[1;33m\u001b[0m\u001b[0m\n\u001b[0m\u001b[0;32m     35\u001b[0m \u001b[1;33m\u001b[0m\u001b[0m\n\u001b[0;32m     36\u001b[0m \u001b[1;33m\u001b[0m\u001b[0m\n",
      "\u001b[1;32m<ipython-input-73-0217995f53b7>\u001b[0m in \u001b[0;36mmain_function\u001b[1;34m()\u001b[0m\n\u001b[0;32m      6\u001b[0m     \u001b[1;32mwhile\u001b[0m \u001b[1;32mTrue\u001b[0m\u001b[1;33m:\u001b[0m\u001b[1;33m\u001b[0m\u001b[1;33m\u001b[0m\u001b[0m\n\u001b[0;32m      7\u001b[0m         \u001b[1;31m#let player guess a letter and check whether the letter is in the word\u001b[0m\u001b[1;33m\u001b[0m\u001b[1;33m\u001b[0m\u001b[1;33m\u001b[0m\u001b[0m\n\u001b[1;32m----> 8\u001b[1;33m         \u001b[0mcheck_letter\u001b[0m\u001b[1;33m(\u001b[0m\u001b[0mplayer_input\u001b[0m\u001b[1;33m(\u001b[0m\u001b[1;33m)\u001b[0m\u001b[1;33m)\u001b[0m\u001b[1;33m\u001b[0m\u001b[1;33m\u001b[0m\u001b[0m\n\u001b[0m\u001b[0;32m      9\u001b[0m         \u001b[1;31m#show a dashboard with the updated to-be-guessed word, wrong letters and pictures\u001b[0m\u001b[1;33m\u001b[0m\u001b[1;33m\u001b[0m\u001b[1;33m\u001b[0m\u001b[0m\n\u001b[0;32m     10\u001b[0m         \u001b[0mdisplay\u001b[0m\u001b[1;33m(\u001b[0m\u001b[0mcorrect_letters\u001b[0m\u001b[1;33m,\u001b[0m \u001b[0mwrong_letters\u001b[0m\u001b[1;33m,\u001b[0m \u001b[0mcomp_word\u001b[0m\u001b[1;33m)\u001b[0m\u001b[1;33m\u001b[0m\u001b[1;33m\u001b[0m\u001b[0m\n",
      "\u001b[1;32m<ipython-input-69-2884f66b27ce>\u001b[0m in \u001b[0;36mplayer_input\u001b[1;34m()\u001b[0m\n\u001b[0;32m      5\u001b[0m     \u001b[0moutput\u001b[0m\u001b[1;33m:\u001b[0m \u001b[0ma\u001b[0m \u001b[0mstring\u001b[0m \u001b[1;33m(\u001b[0m\u001b[0msingle\u001b[0m \u001b[0mletter\u001b[0m\u001b[1;33m)\u001b[0m\u001b[1;33m\u001b[0m\u001b[1;33m\u001b[0m\u001b[0m\n\u001b[0;32m      6\u001b[0m     \"\"\"\n\u001b[1;32m----> 7\u001b[1;33m     \u001b[0mplayer_input\u001b[0m \u001b[1;33m=\u001b[0m \u001b[0minput\u001b[0m \u001b[1;33m(\u001b[0m\u001b[1;34m\"Enter the letter you'd like to try, a-z: \"\u001b[0m\u001b[1;33m)\u001b[0m\u001b[1;33m\u001b[0m\u001b[1;33m\u001b[0m\u001b[0m\n\u001b[0m\u001b[0;32m      8\u001b[0m     \u001b[1;32mif\u001b[0m \u001b[0mplayer_input\u001b[0m\u001b[1;33m.\u001b[0m\u001b[0misalpha\u001b[0m\u001b[1;33m(\u001b[0m\u001b[1;33m)\u001b[0m \u001b[1;33m==\u001b[0m \u001b[1;32mFalse\u001b[0m\u001b[1;33m:\u001b[0m\u001b[1;33m\u001b[0m\u001b[1;33m\u001b[0m\u001b[0m\n\u001b[0;32m      9\u001b[0m         \u001b[0mprint\u001b[0m\u001b[1;33m(\u001b[0m\u001b[1;34m\"That's not a letter from the alphabet! Try again\"\u001b[0m\u001b[1;33m)\u001b[0m\u001b[1;33m\u001b[0m\u001b[1;33m\u001b[0m\u001b[0m\n",
      "\u001b[1;32m~\\anaconda3\\lib\\site-packages\\ipykernel\\kernelbase.py\u001b[0m in \u001b[0;36mraw_input\u001b[1;34m(self, prompt)\u001b[0m\n\u001b[0;32m    858\u001b[0m                 \u001b[1;34m\"raw_input was called, but this frontend does not support input requests.\"\u001b[0m\u001b[1;33m\u001b[0m\u001b[1;33m\u001b[0m\u001b[0m\n\u001b[0;32m    859\u001b[0m             )\n\u001b[1;32m--> 860\u001b[1;33m         return self._input_request(str(prompt),\n\u001b[0m\u001b[0;32m    861\u001b[0m             \u001b[0mself\u001b[0m\u001b[1;33m.\u001b[0m\u001b[0m_parent_ident\u001b[0m\u001b[1;33m,\u001b[0m\u001b[1;33m\u001b[0m\u001b[1;33m\u001b[0m\u001b[0m\n\u001b[0;32m    862\u001b[0m             \u001b[0mself\u001b[0m\u001b[1;33m.\u001b[0m\u001b[0m_parent_header\u001b[0m\u001b[1;33m,\u001b[0m\u001b[1;33m\u001b[0m\u001b[1;33m\u001b[0m\u001b[0m\n",
      "\u001b[1;32m~\\anaconda3\\lib\\site-packages\\ipykernel\\kernelbase.py\u001b[0m in \u001b[0;36m_input_request\u001b[1;34m(self, prompt, ident, parent, password)\u001b[0m\n\u001b[0;32m    902\u001b[0m             \u001b[1;32mexcept\u001b[0m \u001b[0mKeyboardInterrupt\u001b[0m\u001b[1;33m:\u001b[0m\u001b[1;33m\u001b[0m\u001b[1;33m\u001b[0m\u001b[0m\n\u001b[0;32m    903\u001b[0m                 \u001b[1;31m# re-raise KeyboardInterrupt, to truncate traceback\u001b[0m\u001b[1;33m\u001b[0m\u001b[1;33m\u001b[0m\u001b[1;33m\u001b[0m\u001b[0m\n\u001b[1;32m--> 904\u001b[1;33m                 \u001b[1;32mraise\u001b[0m \u001b[0mKeyboardInterrupt\u001b[0m\u001b[1;33m(\u001b[0m\u001b[1;34m\"Interrupted by user\"\u001b[0m\u001b[1;33m)\u001b[0m \u001b[1;32mfrom\u001b[0m \u001b[1;32mNone\u001b[0m\u001b[1;33m\u001b[0m\u001b[1;33m\u001b[0m\u001b[0m\n\u001b[0m\u001b[0;32m    905\u001b[0m             \u001b[1;32mexcept\u001b[0m \u001b[0mException\u001b[0m \u001b[1;32mas\u001b[0m \u001b[0me\u001b[0m\u001b[1;33m:\u001b[0m\u001b[1;33m\u001b[0m\u001b[1;33m\u001b[0m\u001b[0m\n\u001b[0;32m    906\u001b[0m                 \u001b[0mself\u001b[0m\u001b[1;33m.\u001b[0m\u001b[0mlog\u001b[0m\u001b[1;33m.\u001b[0m\u001b[0mwarning\u001b[0m\u001b[1;33m(\u001b[0m\u001b[1;34m\"Invalid Message:\"\u001b[0m\u001b[1;33m,\u001b[0m \u001b[0mexc_info\u001b[0m\u001b[1;33m=\u001b[0m\u001b[1;32mTrue\u001b[0m\u001b[1;33m)\u001b[0m\u001b[1;33m\u001b[0m\u001b[1;33m\u001b[0m\u001b[0m\n",
      "\u001b[1;31mKeyboardInterrupt\u001b[0m: Interrupted by user"
     ]
    }
   ],
   "source": [
    "def main_function():\n",
    "    print(\"Welcome to hangman!\")\n",
    "    print(\"It was a tough choice, but I picked a word. Here it is: \\n\")\n",
    "    print(display_word, \"\\n\") \n",
    "\n",
    "    while True:\n",
    "        #let player guess a letter and check whether the letter is in the word\n",
    "        check_letter(player_input())\n",
    "        #show a dashboard with the updated to-be-guessed word, wrong letters and pictures\n",
    "        display(correct_letters, wrong_letters, comp_word)\n",
    "\n",
    "        #check if the word is guessed already\n",
    "        word_guessed = True\n",
    "        for i in comp_word:\n",
    "            print(\"I'm here!\")\n",
    "            if i in range(len(comp_word)):\n",
    "                print(\"Im further along\")\n",
    "                if comp_word[i] not in correct_letters:\n",
    "                    print(\"going steady down the loophole\")\n",
    "                    word_guessed = False\n",
    "                    break #should not break out of the for while true loop\n",
    "                else:\n",
    "                    print(\"Well done, you guessed the word!\")\n",
    "                    break #should break out of the 'while true loop', so wont ask for more letters\n",
    "\n",
    "        #check if the are too many wrong answers:\n",
    "        if len(wrong_letters) == len(pictures):\n",
    "            display(correct_letters, wrong_letters, comp_word)\n",
    "            print(\"Ouch, too many wrong guesses. This game is over!\")\n",
    "            game_over = True\n",
    "            break #breaks out of the 'while true loop', so wont ask for more letters\n",
    "\n",
    "\n",
    "main_function()\n",
    "\n",
    "\n",
    "#     while len(wrong_letters) < len(pictures)\n",
    "#         check_letter(player_input())\n",
    "#     else:\n",
    "#         print(\"stop the loop!\")\n",
    "\n",
    "# print(\"main_function(0,0)\")\n",
    "# main_function(0,0)\n",
    "    \n",
    "# for i in range(3):\n",
    "#     check_letter(player_input())"
   ]
  },
  {
   "cell_type": "code",
   "execution_count": 9,
   "metadata": {},
   "outputs": [],
   "source": [
    "# \"\"\"\n",
    "# while penalty <= len(pictures): \n",
    "#     player_input(penalty)\n",
    "\n",
    "# print(\"these are the wrongly guessed letters:\", wrong_letters)\n",
    "# print(\"those are the correct letters:\", correct_letters)\n",
    "# print(\"this is total tried letters:\", tried_letters) # this doesnt work\n",
    "# \"\"\""
   ]
  }
 ],
 "metadata": {
  "kernelspec": {
   "display_name": "Python 3",
   "language": "python",
   "name": "python3"
  },
  "language_info": {
   "codemirror_mode": {
    "name": "ipython",
    "version": 3
   },
   "file_extension": ".py",
   "mimetype": "text/x-python",
   "name": "python",
   "nbconvert_exporter": "python",
   "pygments_lexer": "ipython3",
   "version": "3.8.5"
  }
 },
 "nbformat": 4,
 "nbformat_minor": 4
}
